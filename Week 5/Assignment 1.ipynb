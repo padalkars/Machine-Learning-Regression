{
 "cells": [
  {
   "cell_type": "code",
   "execution_count": 1,
   "metadata": {},
   "outputs": [],
   "source": [
    "import pandas as pd\n",
    "import numpy as np\n",
    "import matplotlib.pyplot as plt"
   ]
  },
  {
   "cell_type": "code",
   "execution_count": 2,
   "metadata": {},
   "outputs": [],
   "source": [
    "sales = pd.read_csv('kc_house_data.csv')"
   ]
  },
  {
   "cell_type": "code",
   "execution_count": 3,
   "metadata": {},
   "outputs": [
    {
     "data": {
      "text/plain": [
       "id                 int64\n",
       "date              object\n",
       "price            float64\n",
       "bedrooms           int64\n",
       "bathrooms        float64\n",
       "sqft_living        int64\n",
       "sqft_lot           int64\n",
       "floors           float64\n",
       "waterfront         int64\n",
       "view               int64\n",
       "condition          int64\n",
       "grade              int64\n",
       "sqft_above         int64\n",
       "sqft_basement      int64\n",
       "yr_built           int64\n",
       "yr_renovated       int64\n",
       "zipcode            int64\n",
       "lat              float64\n",
       "long             float64\n",
       "sqft_living15      int64\n",
       "sqft_lot15         int64\n",
       "dtype: object"
      ]
     },
     "execution_count": 3,
     "metadata": {},
     "output_type": "execute_result"
    }
   ],
   "source": [
    "sales.dtypes"
   ]
  },
  {
   "cell_type": "code",
   "execution_count": 4,
   "metadata": {},
   "outputs": [],
   "source": [
    "dtype_dict = {'bathrooms':float, 'waterfront':int, 'sqft_above':int, \n",
    "              'sqft_living15':float, 'grade':int, 'yr_renovated':int, \n",
    "              'price':float, 'bedrooms':float, 'zipcode':str, \n",
    "              'long':float, 'sqft_lot15':float, 'sqft_living':float, \n",
    "              'floors':float, 'condition':int, 'lat':float, 'date':str, \n",
    "              'sqft_basement':int, 'yr_built':int, 'id':str, \n",
    "              'sqft_lot':int, 'view':int}\n"
   ]
  },
  {
   "cell_type": "code",
   "execution_count": 5,
   "metadata": {},
   "outputs": [
    {
     "data": {
      "text/plain": [
       "id                object\n",
       "date              object\n",
       "price            float64\n",
       "bedrooms         float64\n",
       "bathrooms        float64\n",
       "sqft_living      float64\n",
       "sqft_lot           int64\n",
       "floors           float64\n",
       "waterfront         int64\n",
       "view               int64\n",
       "condition          int64\n",
       "grade              int64\n",
       "sqft_above         int64\n",
       "sqft_basement      int64\n",
       "yr_built           int64\n",
       "yr_renovated       int64\n",
       "zipcode           object\n",
       "lat              float64\n",
       "long             float64\n",
       "sqft_living15    float64\n",
       "sqft_lot15       float64\n",
       "dtype: object"
      ]
     },
     "execution_count": 5,
     "metadata": {},
     "output_type": "execute_result"
    }
   ],
   "source": [
    "sales = pd.read_csv('kc_house_data.csv', dtype= dtype_dict)\n",
    "sales.dtypes"
   ]
  },
  {
   "cell_type": "code",
   "execution_count": 6,
   "metadata": {},
   "outputs": [],
   "source": [
    "from math import log, sqrt\n",
    "sales['sqft_living_sqrt'] = sales['sqft_living'].map(sqrt)\n",
    "sales['sqft_lot_sqrt'] = sales['sqft_lot'].apply(sqrt)\n",
    "sales['bedrooms_square'] = sales['bedrooms'].map(lambda x:x**2)\n",
    "sales['floors_square'] = sales['floors'].map(lambda x:x**2)\n"
   ]
  },
  {
   "cell_type": "code",
   "execution_count": 7,
   "metadata": {},
   "outputs": [],
   "source": [
    "def transformation(data):\n",
    "    data['sqft_living_sqrt'] = data['sqft_living'].map(sqrt)\n",
    "    data['sqft_lot_sqrt'] = data['sqft_lot'].apply(sqrt)\n",
    "    data['bedrooms_square'] = data['bedrooms'].map(lambda x:x**2)\n",
    "    data['floors_square'] = data['floors'].map(lambda x:x**2)\n"
   ]
  },
  {
   "cell_type": "code",
   "execution_count": 8,
   "metadata": {},
   "outputs": [
    {
     "data": {
      "text/plain": [
       "['bedrooms',\n",
       " 'sqft_living',\n",
       " 'sqft_lot',\n",
       " 'sqft_above',\n",
       " 'sqft_basement',\n",
       " 'sqft_living15',\n",
       " 'sqft_lot15',\n",
       " 'sqft_living_sqrt',\n",
       " 'sqft_lot_sqrt',\n",
       " 'bedrooms_square']"
      ]
     },
     "execution_count": 8,
     "metadata": {},
     "output_type": "execute_result"
    }
   ],
   "source": [
    "cols_trasformed_cols = [col for col in sales.columns if(col.startswith('sqft') or col.startswith('bedrooms'))]\n",
    "cols_trasformed_cols"
   ]
  },
  {
   "cell_type": "code",
   "execution_count": 9,
   "metadata": {},
   "outputs": [
    {
     "data": {
      "text/html": [
       "<div>\n",
       "<style scoped>\n",
       "    .dataframe tbody tr th:only-of-type {\n",
       "        vertical-align: middle;\n",
       "    }\n",
       "\n",
       "    .dataframe tbody tr th {\n",
       "        vertical-align: top;\n",
       "    }\n",
       "\n",
       "    .dataframe thead th {\n",
       "        text-align: right;\n",
       "    }\n",
       "</style>\n",
       "<table border=\"1\" class=\"dataframe\">\n",
       "  <thead>\n",
       "    <tr style=\"text-align: right;\">\n",
       "      <th></th>\n",
       "      <th>bedrooms_square</th>\n",
       "      <th>bedrooms</th>\n",
       "      <th>sqft_living</th>\n",
       "      <th>sqft_living_sqrt</th>\n",
       "      <th>sqft_lot</th>\n",
       "      <th>sqft_lot_sqrt</th>\n",
       "      <th>sqft_above</th>\n",
       "      <th>sqft_basement</th>\n",
       "      <th>sqft_living15</th>\n",
       "      <th>sqft_lot15</th>\n",
       "    </tr>\n",
       "  </thead>\n",
       "  <tbody>\n",
       "    <tr>\n",
       "      <th>0</th>\n",
       "      <td>9.0</td>\n",
       "      <td>3.0</td>\n",
       "      <td>1180.0</td>\n",
       "      <td>34.351128</td>\n",
       "      <td>5650</td>\n",
       "      <td>75.166482</td>\n",
       "      <td>1180</td>\n",
       "      <td>0</td>\n",
       "      <td>1340.0</td>\n",
       "      <td>5650.0</td>\n",
       "    </tr>\n",
       "    <tr>\n",
       "      <th>1</th>\n",
       "      <td>9.0</td>\n",
       "      <td>3.0</td>\n",
       "      <td>2570.0</td>\n",
       "      <td>50.695167</td>\n",
       "      <td>7242</td>\n",
       "      <td>85.099941</td>\n",
       "      <td>2170</td>\n",
       "      <td>400</td>\n",
       "      <td>1690.0</td>\n",
       "      <td>7639.0</td>\n",
       "    </tr>\n",
       "    <tr>\n",
       "      <th>2</th>\n",
       "      <td>4.0</td>\n",
       "      <td>2.0</td>\n",
       "      <td>770.0</td>\n",
       "      <td>27.748874</td>\n",
       "      <td>10000</td>\n",
       "      <td>100.000000</td>\n",
       "      <td>770</td>\n",
       "      <td>0</td>\n",
       "      <td>2720.0</td>\n",
       "      <td>8062.0</td>\n",
       "    </tr>\n",
       "    <tr>\n",
       "      <th>3</th>\n",
       "      <td>16.0</td>\n",
       "      <td>4.0</td>\n",
       "      <td>1960.0</td>\n",
       "      <td>44.271887</td>\n",
       "      <td>5000</td>\n",
       "      <td>70.710678</td>\n",
       "      <td>1050</td>\n",
       "      <td>910</td>\n",
       "      <td>1360.0</td>\n",
       "      <td>5000.0</td>\n",
       "    </tr>\n",
       "    <tr>\n",
       "      <th>4</th>\n",
       "      <td>9.0</td>\n",
       "      <td>3.0</td>\n",
       "      <td>1680.0</td>\n",
       "      <td>40.987803</td>\n",
       "      <td>8080</td>\n",
       "      <td>89.888820</td>\n",
       "      <td>1680</td>\n",
       "      <td>0</td>\n",
       "      <td>1800.0</td>\n",
       "      <td>7503.0</td>\n",
       "    </tr>\n",
       "  </tbody>\n",
       "</table>\n",
       "</div>"
      ],
      "text/plain": [
       "   bedrooms_square  bedrooms  sqft_living  sqft_living_sqrt  sqft_lot  \\\n",
       "0              9.0       3.0       1180.0         34.351128      5650   \n",
       "1              9.0       3.0       2570.0         50.695167      7242   \n",
       "2              4.0       2.0        770.0         27.748874     10000   \n",
       "3             16.0       4.0       1960.0         44.271887      5000   \n",
       "4              9.0       3.0       1680.0         40.987803      8080   \n",
       "\n",
       "   sqft_lot_sqrt  sqft_above  sqft_basement  sqft_living15  sqft_lot15  \n",
       "0      75.166482        1180              0         1340.0      5650.0  \n",
       "1      85.099941        2170            400         1690.0      7639.0  \n",
       "2     100.000000         770              0         2720.0      8062.0  \n",
       "3      70.710678        1050            910         1360.0      5000.0  \n",
       "4      89.888820        1680              0         1800.0      7503.0  "
      ]
     },
     "execution_count": 9,
     "metadata": {},
     "output_type": "execute_result"
    }
   ],
   "source": [
    "sales[['bedrooms_square',\n",
    " 'bedrooms',      \n",
    "'sqft_living',\n",
    " 'sqft_living_sqrt',\n",
    " 'sqft_lot',\n",
    " 'sqft_lot_sqrt',\n",
    " 'sqft_above',\n",
    " 'sqft_basement',\n",
    " 'sqft_living15',\n",
    " 'sqft_lot15']].head()"
   ]
  },
  {
   "cell_type": "code",
   "execution_count": 10,
   "metadata": {},
   "outputs": [
    {
     "data": {
      "text/plain": [
       "Lasso(alpha=500.0, copy_X=True, fit_intercept=True, max_iter=1000,\n",
       "   normalize=True, positive=False, precompute=False, random_state=None,\n",
       "   selection='cyclic', tol=0.0001, warm_start=False)"
      ]
     },
     "execution_count": 10,
     "metadata": {},
     "output_type": "execute_result"
    }
   ],
   "source": [
    "from sklearn import linear_model  # using scikit-learn\n",
    "\n",
    "all_features = ['bedrooms', 'bedrooms_square',\n",
    "            'bathrooms',\n",
    "            'sqft_living', 'sqft_living_sqrt',\n",
    "            'sqft_lot', 'sqft_lot_sqrt',\n",
    "            'floors', 'floors_square',\n",
    "            'waterfront', 'view', 'condition', 'grade',\n",
    "            'sqft_above',\n",
    "            'sqft_basement',\n",
    "            'yr_built', 'yr_renovated']\n",
    "\n",
    "model_all = linear_model.Lasso(alpha=5e2, normalize=True) # set parameters\n",
    "model_all.fit(sales[all_features], sales['price']) # learn weights"
   ]
  },
  {
   "cell_type": "markdown",
   "metadata": {},
   "source": [
    "## Quiz Question: Which features have been chosen by LASSO, i.e. which features were assigned nonzero weights?"
   ]
  },
  {
   "cell_type": "code",
   "execution_count": 11,
   "metadata": {},
   "outputs": [
    {
     "data": {
      "text/plain": [
       "17"
      ]
     },
     "execution_count": 11,
     "metadata": {},
     "output_type": "execute_result"
    }
   ],
   "source": [
    "len(model_all.coef_)"
   ]
  },
  {
   "cell_type": "code",
   "execution_count": 12,
   "metadata": {},
   "outputs": [
    {
     "data": {
      "text/plain": [
       "17"
      ]
     },
     "execution_count": 12,
     "metadata": {},
     "output_type": "execute_result"
    }
   ],
   "source": [
    "len(all_features)"
   ]
  },
  {
   "cell_type": "code",
   "execution_count": 13,
   "metadata": {},
   "outputs": [
    {
     "data": {
      "text/plain": [
       "['sqft_living', 'view', 'grade']"
      ]
     },
     "execution_count": 13,
     "metadata": {},
     "output_type": "execute_result"
    }
   ],
   "source": [
    "[all_features[i] for i in range(len(all_features)) if(model_all.coef_[i]!=0.)]"
   ]
  },
  {
   "cell_type": "code",
   "execution_count": 14,
   "metadata": {},
   "outputs": [
    {
     "data": {
      "text/plain": [
       "['bedrooms',\n",
       " 'bedrooms_square',\n",
       " 'bathrooms',\n",
       " 'sqft_living_sqrt',\n",
       " 'sqft_lot',\n",
       " 'sqft_lot_sqrt',\n",
       " 'floors',\n",
       " 'floors_square',\n",
       " 'waterfront',\n",
       " 'condition',\n",
       " 'sqft_above',\n",
       " 'sqft_basement',\n",
       " 'yr_built',\n",
       " 'yr_renovated']"
      ]
     },
     "execution_count": 14,
     "metadata": {},
     "output_type": "execute_result"
    }
   ],
   "source": [
    "#Features with 0 weights\n",
    "[all_features[i] for i in range(len(all_features)) if(model_all.coef_[i]==0.)]"
   ]
  },
  {
   "cell_type": "markdown",
   "metadata": {},
   "source": [
    "## Splitting the data into Training, Testing and Validation Sets"
   ]
  },
  {
   "cell_type": "code",
   "execution_count": 15,
   "metadata": {},
   "outputs": [],
   "source": [
    "testing = pd.read_csv('wk3_kc_house_test_data.csv', dtype=dtype_dict)\n",
    "training = pd.read_csv('wk3_kc_house_train_data.csv', dtype=dtype_dict)\n",
    "validation = pd.read_csv('wk3_kc_house_valid_data.csv', dtype=dtype_dict)"
   ]
  },
  {
   "cell_type": "code",
   "execution_count": 16,
   "metadata": {},
   "outputs": [
    {
     "data": {
      "text/plain": [
       "[True, True, True]"
      ]
     },
     "execution_count": 16,
     "metadata": {},
     "output_type": "execute_result"
    }
   ],
   "source": [
    "list(map(lambda x:'price' in x.columns, [testing, training, validation]))"
   ]
  },
  {
   "cell_type": "code",
   "execution_count": 17,
   "metadata": {},
   "outputs": [
    {
     "data": {
      "text/plain": [
       "[None, None, None]"
      ]
     },
     "execution_count": 17,
     "metadata": {},
     "output_type": "execute_result"
    }
   ],
   "source": [
    "#Transform the respective features of the 3 datasets\n",
    "list(map(transformation, [testing, training, validation]))"
   ]
  },
  {
   "cell_type": "code",
   "execution_count": 18,
   "metadata": {},
   "outputs": [
    {
     "name": "stdout",
     "output_type": "stream",
     "text": [
      "10.0\n"
     ]
    }
   ],
   "source": [
    "import sys\n",
    "m = sys.float_info.max\n",
    "\n",
    "penalty_smallest_rss = ''\n",
    "\n",
    "for l1_penalty in np.logspace(1, 7, num=13):\n",
    "    model = linear_model.Lasso(alpha=l1_penalty, normalize=True)\n",
    "    \n",
    "    #Fit the model on training data\n",
    "    model.fit(training[all_features], training['price'])\n",
    "    \n",
    "    #Predict on validation data\n",
    "    predicted_val = model.predict(validation[all_features])\n",
    "    \n",
    "    #Compute the RSS on VALIDATION for the current model \n",
    "    rss_val = np.sum(np.array([(pred-act)**2 for pred, act in zip(predicted_val, validation['price'])]))\n",
    "    \n",
    "    #RSS_for_models.append(rss_val)\n",
    "    if(rss_val <= m):\n",
    "        m = rss_val\n",
    "        penalty_smallest_rss = l1_penalty\n",
    "        \n",
    "print(penalty_smallest_rss)"
   ]
  },
  {
   "cell_type": "markdown",
   "metadata": {},
   "source": [
    "## Quiz Question: Which was the best value for the l1_penalty, i.e. which value of l1_penalty produced the lowest RSS on VALIDATION data?"
   ]
  },
  {
   "cell_type": "code",
   "execution_count": 19,
   "metadata": {},
   "outputs": [
    {
     "data": {
      "text/plain": [
       "10.0"
      ]
     },
     "execution_count": 19,
     "metadata": {},
     "output_type": "execute_result"
    }
   ],
   "source": [
    "10.0"
   ]
  },
  {
   "cell_type": "markdown",
   "metadata": {},
   "source": [
    "## Quiz Question: Using the best L1 penalty, how many nonzero weights do you have? Count the number of nonzero coefficients first, and add 1 if the intercept is also nonzero."
   ]
  },
  {
   "cell_type": "code",
   "execution_count": 20,
   "metadata": {},
   "outputs": [
    {
     "name": "stdout",
     "output_type": "stream",
     "text": [
      "RSS on Test data:- 98467402552698.8\n"
     ]
    }
   ],
   "source": [
    "#compute the RSS on TEST data for the model with the best L1 penalty.\n",
    "\n",
    "best_l1_penalty = 10.0\n",
    "model = linear_model.Lasso(alpha=best_l1_penalty, normalize=True)\n",
    "\n",
    "#Fit the model on training data\n",
    "model.fit(training[all_features], training['price'])\n",
    "\n",
    "#Predict on test data\n",
    "predicted_test = model.predict(testing[all_features])\n",
    "\n",
    "#compute the RSS on TEST data\n",
    "rss_test = np.sum(np.array([(pred-act)**2 for pred, act in zip(predicted_test, testing['price'])]))\n",
    "\n",
    "print(\"RSS on Test data:- {}\" .format(rss_test)) "
   ]
  },
  {
   "cell_type": "code",
   "execution_count": 21,
   "metadata": {},
   "outputs": [
    {
     "data": {
      "text/plain": [
       "15"
      ]
     },
     "execution_count": 21,
     "metadata": {},
     "output_type": "execute_result"
    }
   ],
   "source": [
    "#How many non-zero weights do we have\n",
    "np.count_nonzero(model.coef_) + np.count_nonzero(model.intercept_)"
   ]
  },
  {
   "cell_type": "code",
   "execution_count": 22,
   "metadata": {},
   "outputs": [
    {
     "data": {
      "text/plain": [
       "array([-1.61445628e+04,  3.73245384e+02,  5.08412433e+04,  6.17853560e+02,\n",
       "       -4.44113549e+04,  7.85623065e-01, -7.01194765e+02, -0.00000000e+00,\n",
       "        5.01420046e+03,  6.19488752e+05,  3.80418557e+04,  2.49987718e+04,\n",
       "        1.28716235e+05,  0.00000000e+00,  0.00000000e+00, -3.29383118e+03,\n",
       "        1.00573209e+01])"
      ]
     },
     "execution_count": 22,
     "metadata": {},
     "output_type": "execute_result"
    }
   ],
   "source": [
    "model.coef_"
   ]
  },
  {
   "cell_type": "code",
   "execution_count": 23,
   "metadata": {},
   "outputs": [
    {
     "data": {
      "text/plain": [
       "6630155.668628362"
      ]
     },
     "execution_count": 23,
     "metadata": {},
     "output_type": "execute_result"
    }
   ],
   "source": [
    "model.intercept_"
   ]
  },
  {
   "cell_type": "markdown",
   "metadata": {},
   "source": [
    "### What if we absolutely wanted to limit ourselves to, say, 7 features? This may be important if we want to derive \"a rule of thumb\" --- an interpretable model that has only a few features in them.\n",
    "\n",
    "Explore a large range of ‘l1_penalty’ values to find a narrow region of ‘l1_penalty’ values where models are likely to have the desired number of non-zero weights.\n",
    "\n",
    "Further explore the narrow region you found to find a good value for ‘l1_penalty’ that achieves the desired sparsity. Here, we will again use a validation set to choose the best value for ‘l1_penalty’."
   ]
  },
  {
   "cell_type": "code",
   "execution_count": 24,
   "metadata": {},
   "outputs": [],
   "source": [
    "# Assign 7 to the variable ‘max_nonzeros’.\n",
    "max_nonzeros = 7"
   ]
  },
  {
   "cell_type": "code",
   "execution_count": 32,
   "metadata": {},
   "outputs": [
    {
     "data": {
      "text/plain": [
       "10000.0"
      ]
     },
     "execution_count": 32,
     "metadata": {},
     "output_type": "execute_result"
    }
   ],
   "source": [
    "max(np.logspace(1, 4, num=20))"
   ]
  },
  {
   "cell_type": "code",
   "execution_count": 33,
   "metadata": {},
   "outputs": [
    {
     "data": {
      "text/plain": [
       "78"
      ]
     },
     "execution_count": 33,
     "metadata": {},
     "output_type": "execute_result"
    }
   ],
   "source": [
    "1 + (20-1)*4 + 1"
   ]
  },
  {
   "cell_type": "code",
   "execution_count": 34,
   "metadata": {},
   "outputs": [
    {
     "data": {
      "text/plain": [
       "array([   10.        ,    14.38449888,    20.69138081,    29.76351442,\n",
       "          42.81332399,    61.58482111,    88.58667904,   127.42749857,\n",
       "         183.29807108,   263.66508987,   379.26901907,   545.55947812,\n",
       "         784.75997035,  1128.83789168,  1623.77673919,  2335.72146909,\n",
       "        3359.81828628,  4832.93023857,  6951.92796178, 10000.        ])"
      ]
     },
     "execution_count": 34,
     "metadata": {},
     "output_type": "execute_result"
    }
   ],
   "source": [
    "np.logspace(1, 4, num=20)"
   ]
  },
  {
   "cell_type": "code",
   "execution_count": 37,
   "metadata": {},
   "outputs": [],
   "source": [
    "\n",
    "l1_penalty_min = max(np.logspace(1, 4, num=20))+1\n",
    "l1_penalty_max = 0\n",
    "non_zero_list = []\n",
    "\n",
    "#Exploring large range of l1_penalty\n",
    "for l1_penalty in np.logspace(1, 4, num=20):\n",
    "    model = linear_model.Lasso(alpha=l1_penalty, normalize=True)\n",
    "\n",
    "    #Fit the model on the train data\n",
    "    model.fit(training[all_features], training['price'])\n",
    "    \n",
    "    #Extract the weights of the model and count the number of nonzeros\n",
    "    count = np.count_nonzero(model.coef_) + np.count_nonzero(model.intercept_)\n",
    "    non_zero_list.append(count)\n",
    "    \n",
    "    #The largest l1_penalty that has more non-zeros than ‘max_nonzeros’\n",
    "    if(count>max_nonzeros):\n",
    "        if(l1_penalty > l1_penalty_max):\n",
    "            l1_penalty_max = l1_penalty\n",
    "    \n",
    "    #The smallest l1_penalty that has fewer non-zeros than ‘max_nonzeros’\n",
    "    if(count<max_nonzeros):\n",
    "        if(l1_penalty < l1_penalty_min):\n",
    "            l1_penalty_min = l1_penalty\n",
    "    "
   ]
  },
  {
   "cell_type": "markdown",
   "metadata": {},
   "source": [
    "### Quiz Question: What values did you find for l1_penalty_min and l1_penalty_max?"
   ]
  },
  {
   "cell_type": "code",
   "execution_count": 38,
   "metadata": {},
   "outputs": [
    {
     "name": "stdout",
     "output_type": "stream",
     "text": [
      "Max L1 penalty= 127.43\n",
      "Min L1 penalty= 263.67\n"
     ]
    }
   ],
   "source": [
    "print(\"Max L1 penalty= %.2f\\nMin L1 penalty= %.2f\" %(l1_penalty_max, l1_penalty_min))"
   ]
  },
  {
   "cell_type": "markdown",
   "metadata": {},
   "source": [
    "## Exploring narrower range of l1_penalty"
   ]
  },
  {
   "cell_type": "raw",
   "metadata": {},
   "source": [
    "Find the model that the lowest RSS on the VALIDATION set and has sparsity equal to ‘max_nonzeros’. (Again, take account of the intercept when counting the number of nonzeros.)"
   ]
  },
  {
   "cell_type": "code",
   "execution_count": 39,
   "metadata": {},
   "outputs": [
    {
     "data": {
      "text/plain": [
       "array([263.66508987, 256.49469033, 249.32429079, 242.15389125,\n",
       "       234.9834917 , 227.81309216, 220.64269262, 213.47229308,\n",
       "       206.30189354, 199.13149399, 191.96109445, 184.79069491,\n",
       "       177.62029537, 170.44989582, 163.27949628, 156.10909674,\n",
       "       148.9386972 , 141.76829765, 134.59789811, 127.42749857])"
      ]
     },
     "execution_count": 39,
     "metadata": {},
     "output_type": "execute_result"
    }
   ],
   "source": [
    "np.linspace(l1_penalty_min,l1_penalty_max,20)"
   ]
  },
  {
   "cell_type": "code",
   "execution_count": 44,
   "metadata": {},
   "outputs": [
    {
     "name": "stdout",
     "output_type": "stream",
     "text": [
      "RSS:- 445230739842614.19\tL1 penalty:- 199.13\n",
      "RSS:- 444239780526141.62\tL1 penalty:- 191.96\n",
      "RSS:- 443296716874315.06\tL1 penalty:- 184.79\n",
      "RSS:- 442406413188666.25\tL1 penalty:- 177.62\n",
      "RSS:- 441566698090139.88\tL1 penalty:- 170.45\n",
      "RSS:- 440777489641605.19\tL1 penalty:- 163.28\n",
      "RSS:- 440037365263316.50\tL1 penalty:- 156.11\n"
     ]
    }
   ],
   "source": [
    "#Find the lowest RSS on validation data\n",
    "m = sys.float_info.max\n",
    "lowest_rss = ''\n",
    "l1_penalty_lowest_rss = ''\n",
    "\n",
    "for l1_penalty in np.linspace(l1_penalty_min,l1_penalty_max,20):\n",
    "    #Create a model with the respective l1_penalty\n",
    "    model = linear_model.Lasso(alpha=l1_penalty, normalize=True)\n",
    "    \n",
    "    #Fit the model on training data\n",
    "    model.fit(training[all_features], training['price'])\n",
    "    \n",
    "    #Predict on the validation set\n",
    "    predicted_val = model.predict(validation[all_features])\n",
    "    \n",
    "    #Calculate the RSS\n",
    "    rss_val = np.sum(np.array([(act-pred)**2 for act, pred in zip(validation['price'], predicted_val)]))\n",
    "    #print(np.count_nonzero(model.coef_) + np.count_nonzero(model.intercept_))\n",
    "    if(rss_val<m):\n",
    "        \n",
    "        if((np.count_nonzero(model.coef_) + np.count_nonzero(model.intercept_))==max_nonzeros):\n",
    "            lowest_rss = rss_val\n",
    "            m = rss_val\n",
    "            l1_penalty_lowest_rss = l1_penalty\n",
    "            print(\"RSS:- %.2f\\tL1 penalty:- %.2f\" %(rss_val, l1_penalty))"
   ]
  },
  {
   "cell_type": "code",
   "execution_count": 45,
   "metadata": {},
   "outputs": [
    {
     "data": {
      "text/plain": [
       "156.10909673930752"
      ]
     },
     "execution_count": 45,
     "metadata": {},
     "output_type": "execute_result"
    }
   ],
   "source": [
    "l1_penalty_lowest_rss"
   ]
  },
  {
   "cell_type": "code",
   "execution_count": 46,
   "metadata": {},
   "outputs": [
    {
     "data": {
      "text/plain": [
       "440037365263316.5"
      ]
     },
     "execution_count": 46,
     "metadata": {},
     "output_type": "execute_result"
    }
   ],
   "source": [
    "lowest_rss"
   ]
  },
  {
   "cell_type": "markdown",
   "metadata": {},
   "source": [
    "## Consider the model learned with the l1_penalty found in the previous question. Which of the following features has non-zero coefficients? "
   ]
  },
  {
   "cell_type": "code",
   "execution_count": 47,
   "metadata": {},
   "outputs": [
    {
     "data": {
      "text/plain": [
       "['bathrooms', 'sqft_living', 'waterfront', 'view', 'grade', 'yr_built']"
      ]
     },
     "execution_count": 47,
     "metadata": {},
     "output_type": "execute_result"
    }
   ],
   "source": [
    "model_lowest_l1_penalty = linear_model.Lasso(alpha=l1_penalty_lowest_rss, normalize=True)\n",
    "\n",
    "#Fit the model on training data\n",
    "model_lowest_l1_penalty.fit(training[all_features], training['price'])\n",
    "\n",
    "#Features having non-zero coefficients\n",
    "[all_features[i] for i in range(len(all_features)) if(model_lowest_l1_penalty.coef_[i]!=0.)]"
   ]
  }
 ],
 "metadata": {
  "kernelspec": {
   "display_name": "Python 3",
   "language": "python",
   "name": "python3"
  },
  "language_info": {
   "codemirror_mode": {
    "name": "ipython",
    "version": 3
   },
   "file_extension": ".py",
   "mimetype": "text/x-python",
   "name": "python",
   "nbconvert_exporter": "python",
   "pygments_lexer": "ipython3",
   "version": "3.6.5"
  }
 },
 "nbformat": 4,
 "nbformat_minor": 2
}
